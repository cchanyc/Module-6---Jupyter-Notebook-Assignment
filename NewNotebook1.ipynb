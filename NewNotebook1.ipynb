{
 "cells": [
  {
   "cell_type": "markdown",
   "id": "1c0c3944-8912-4b38-b6b2-6d344e9ad176",
   "metadata": {},
   "source": [
    "# NewNotebook1"
   ]
  },
  {
   "cell_type": "markdown",
   "id": "fd73809a-82d6-464b-aa81-3063b4711500",
   "metadata": {},
   "source": [
    "# Introduction: \n",
    "This project is to create a new Jupyterlite Notebook (in English) and share it via a public GitHub link."
   ]
  },
  {
   "cell_type": "markdown",
   "id": "72560256-f568-45ab-8457-79baf87f53b7",
   "metadata": {},
   "source": [
    "# Some of the popular data science languages used are:\n",
    "1. Python\n",
    "2. R\n",
    "3. SQL\n",
    "4. Scala\n",
    "5. Java\n",
    "6. C++\n",
    "7. Julia"
   ]
  },
  {
   "cell_type": "markdown",
   "id": "f8b1a8d5-a55e-4612-a6fc-21623e406311",
   "metadata": {},
   "source": [
    "## Some commonly used libraries used by Data Scientists include:\n",
    "1. Pandas\n",
    "2. NumPy\n",
    "3. Matplotlib\n",
    "4. Scikit-learn"
   ]
  },
  {
   "cell_type": "markdown",
   "id": "635adfa9-a2fb-4279-9af5-bea17b6dfcdd",
   "metadata": {},
   "source": [
    "## Data science tools:\n",
    "\n",
    "| Data Science Tools |\n",
    "| -------------|\n",
    "| Jupyter Notebooks |\n",
    "| Anaconda |\n",
    "| RStudio |\n",
    "| Spyder | "
   ]
  },
  {
   "cell_type": "markdown",
   "id": "40a4687b-def6-4f25-ac9a-f632ad899c27",
   "metadata": {},
   "source": [
    "## Below are some arithmetic examples:\n",
    "* 1+1 = 2\n",
    "* 3-2 = 1\n",
    "* 2*2 = 4\n",
    "* 6/2 = 3"
   ]
  },
  {
   "cell_type": "code",
   "execution_count": 45,
   "id": "7fd1fa44-b306-4f53-8b25-39565e5012df",
   "metadata": {},
   "outputs": [
    {
     "data": {
      "text/plain": [
       "17"
      ]
     },
     "execution_count": 45,
     "metadata": {},
     "output_type": "execute_result"
    }
   ],
   "source": [
    "# A simple arithmetic expression for calculating addition and multiplication:\n",
    "(3*4)+5"
   ]
  },
  {
   "cell_type": "code",
   "execution_count": 53,
   "id": "8aa7c33d-ab30-446b-8267-c245d63fe22e",
   "metadata": {},
   "outputs": [
    {
     "data": {
      "text/plain": [
       "3.3333333333333335"
      ]
     },
     "execution_count": 53,
     "metadata": {},
     "output_type": "execute_result"
    }
   ],
   "source": [
    "# This will convert 200 minutes to hours by dividing by 60\n",
    "200/60"
   ]
  },
  {
   "cell_type": "markdown",
   "id": "e6d602dc-3989-47f6-ac05-2855c975692c",
   "metadata": {},
   "source": [
    "## **Objectives:**"
   ]
  },
  {
   "cell_type": "markdown",
   "id": "41929636-b132-4f11-8bbd-56e079b5165f",
   "metadata": {},
   "source": [
    "* Adding comments to code cells\n",
    "* Creating markup cells\n",
    "* Adding lists\n",
    "* Formatting markup cells"
   ]
  },
  {
   "cell_type": "markdown",
   "id": "1873ee0f-0f01-48c3-8210-3b5b1c8f7ef3",
   "metadata": {},
   "source": [
    "## Author\n",
    "**Carl Chan**"
   ]
  }
 ],
 "metadata": {
  "kernelspec": {
   "display_name": "Python [conda env:base] *",
   "language": "python",
   "name": "conda-base-py"
  },
  "language_info": {
   "codemirror_mode": {
    "name": "ipython",
    "version": 3
   },
   "file_extension": ".py",
   "mimetype": "text/x-python",
   "name": "python",
   "nbconvert_exporter": "python",
   "pygments_lexer": "ipython3",
   "version": "3.12.7"
  }
 },
 "nbformat": 4,
 "nbformat_minor": 5
}
