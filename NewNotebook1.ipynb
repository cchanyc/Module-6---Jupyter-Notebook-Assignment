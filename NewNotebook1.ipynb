{
 "cells": [
  {
   "cell_type": "markdown",
   "id": "1c0c3944-8912-4b38-b6b2-6d344e9ad176",
   "metadata": {},
   "source": [
    "# NewNotebook1"
   ]
  },
  {
   "cell_type": "markdown",
   "id": "fd73809a-82d6-464b-aa81-3063b4711500",
   "metadata": {},
   "source": [
    "# Introduction: \n",
    "This project is to create a new Jupyterlite Notebook (in English) and share it via a public GitHub link."
   ]
  },
  {
   "cell_type": "markdown",
   "id": "72560256-f568-45ab-8457-79baf87f53b7",
   "metadata": {},
   "source": [
    "# Data Science Languages\n",
    "## Popular data science languages include the follows:\n",
    "1. Python\n",
    "2. R\n",
    "3. SQL\n",
    "4. Scala\n",
    "5. Java\n",
    "6. C++\n",
    "7. Julia"
   ]
  },
  {
   "cell_type": "markdown",
   "id": "f8b1a8d5-a55e-4612-a6fc-21623e406311",
   "metadata": {},
   "source": [
    "## Some commonly used libraries (e.g., as in Python) include:\n",
    "1. Pandas\n",
    "2. NumPy\n",
    "3. SciPy\n",
    "4. Matplotlib"
   ]
  },
  {
   "cell_type": "markdown",
   "id": "635adfa9-a2fb-4279-9af5-bea17b6dfcdd",
   "metadata": {},
   "source": [
    "## Some of the data science tools are as follows:\n",
    "\n",
    "| Categories | Tools |\n",
    "| -------------| ------ |\n",
    "| Data management | MySQL, PostgreSQL, Apache CouchDB, MongoDB, Apache Cassandra, Hadoop Distributed File System (HDFS)|\n",
    "| Data integration & transformation | Apache Airflow, Kubeflow, Apache Kafka, Apache NiFi, Apache Spark SQL |\n",
    "| Data visualization | PixieDust, Hue, Kibana, Apache Superset |\n",
    "| Model deployment | Apache PredictionIO, Kubernetes, Apache Seldon, MLeap, TensorFlow Lite |"
   ]
  },
  {
   "cell_type": "markdown",
   "id": "40a4687b-def6-4f25-ac9a-f632ad899c27",
   "metadata": {},
   "source": [
    "# Arithmetic examples\n",
    "## Below are some arithmetic examples:\n",
    "* 1+1 = 2\n",
    "* 3-2 = 1\n",
    "* 2*2 = 4\n",
    "* 6/2 = 3"
   ]
  },
  {
   "cell_type": "code",
   "execution_count": 11,
   "id": "e7d55523-fc2c-47a0-8afe-eb51ce29d724",
   "metadata": {},
   "outputs": [
    {
     "data": {
      "text/plain": [
       "9"
      ]
     },
     "execution_count": 11,
     "metadata": {},
     "output_type": "execute_result"
    }
   ],
   "source": [
    "3*3"
   ]
  },
  {
   "cell_type": "code",
   "execution_count": 13,
   "id": "1bfb78a8-af40-42f4-bf3e-30b221674838",
   "metadata": {},
   "outputs": [
    {
     "data": {
      "text/plain": [
       "6"
      ]
     },
     "execution_count": 13,
     "metadata": {},
     "output_type": "execute_result"
    }
   ],
   "source": [
    "2+4"
   ]
  },
  {
   "cell_type": "markdown",
   "id": "1e5107c1-e793-420b-8db4-796cf5fa5078",
   "metadata": {},
   "source": [
    "# Adding 1 to 2, and then multiplied by 3:"
   ]
  },
  {
   "cell_type": "code",
   "execution_count": 18,
   "id": "318a4631-60f5-4e2a-b139-ab10e8fbb946",
   "metadata": {},
   "outputs": [
    {
     "data": {
      "text/plain": [
       "9"
      ]
     },
     "execution_count": 18,
     "metadata": {},
     "output_type": "execute_result"
    }
   ],
   "source": [
    "(1+2)*3"
   ]
  },
  {
   "cell_type": "markdown",
   "id": "ee46f0d7-b7b5-4b14-976b-598540269760",
   "metadata": {},
   "source": [
    "# Converting 210 minutes into hours"
   ]
  },
  {
   "cell_type": "code",
   "execution_count": 21,
   "id": "8aa7c33d-ab30-446b-8267-c245d63fe22e",
   "metadata": {},
   "outputs": [
    {
     "data": {
      "text/plain": [
       "3.5"
      ]
     },
     "execution_count": 21,
     "metadata": {},
     "output_type": "execute_result"
    }
   ],
   "source": [
    "210/60"
   ]
  },
  {
   "cell_type": "markdown",
   "id": "e6d602dc-3989-47f6-ac05-2855c975692c",
   "metadata": {},
   "source": [
    "# Objectives of this notebook"
   ]
  },
  {
   "cell_type": "markdown",
   "id": "41929636-b132-4f11-8bbd-56e079b5165f",
   "metadata": {},
   "source": [
    "## The objectives of this notebook are:\n",
    "* Creating the first Jupyter notebook\n",
    "* Listing data science languages, tools and libraries\n",
    "* Sharing the notebook on Github"
   ]
  },
  {
   "cell_type": "markdown",
   "id": "1873ee0f-0f01-48c3-8210-3b5b1c8f7ef3",
   "metadata": {},
   "source": [
    "# Name of the author:\n",
    "***Carl Chan*** "
   ]
  },
  {
   "cell_type": "code",
   "execution_count": null,
   "id": "39c165d2-0436-4003-ac7f-ee4dfc78f7a1",
   "metadata": {},
   "outputs": [],
   "source": []
  }
 ],
 "metadata": {
  "kernelspec": {
   "display_name": "Python [conda env:base] *",
   "language": "python",
   "name": "conda-base-py"
  },
  "language_info": {
   "codemirror_mode": {
    "name": "ipython",
    "version": 3
   },
   "file_extension": ".py",
   "mimetype": "text/x-python",
   "name": "python",
   "nbconvert_exporter": "python",
   "pygments_lexer": "ipython3",
   "version": "3.12.7"
  }
 },
 "nbformat": 4,
 "nbformat_minor": 5
}
